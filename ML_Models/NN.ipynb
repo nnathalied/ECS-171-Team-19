{
 "cells": [
  {
   "cell_type": "markdown",
   "metadata": {},
   "source": [
    "## Neural Network Model"
   ]
  },
  {
   "cell_type": "code",
   "execution_count": 5,
   "metadata": {},
   "outputs": [],
   "source": [
    "import pandas as pd\n",
    "import pandas as pd\n",
    "import numpy as np\n",
    "from numpy import array\n",
    "from sklearn.preprocessing import LabelEncoder\n",
    "from sklearn.preprocessing import OneHotEncoder\n",
    "from sklearn.preprocessing import OrdinalEncoder\n",
    "from sklearn.model_selection import train_test_split\n",
    "\n",
    "nfl = pd.read_csv(\"NFL_data_super_cleaned.csv\")"
   ]
  },
  {
   "cell_type": "markdown",
   "metadata": {},
   "source": [
    "### Data Preprocessing"
   ]
  },
  {
   "cell_type": "code",
   "execution_count": 6,
   "metadata": {},
   "outputs": [],
   "source": [
    "play = array(nfl[\"play_type\"])\n",
    "\n",
    "play_encoder = LabelEncoder()\n",
    "play_encoded =  play_encoder.fit_transform(play) \n",
    " \n",
    "play_onehot_encoder = OneHotEncoder(sparse=False)\n",
    "\n",
    "play_encoded = play_encoded.reshape(len(play_encoded), 1) \n",
    "play_onehot_encoded = play_onehot_encoder.fit_transform(play_encoded)\n",
    "\n",
    "nfl[\"play_type\"] = play_onehot_encoded.tolist()\n",
    "\n",
    "posteam = array(nfl[\"posteam\"])\n",
    "\n",
    "posteam_encoder = LabelEncoder()\n",
    "posteam_encoded =  posteam_encoder.fit_transform(posteam) \n",
    " \n",
    "posteam_onehot_encoder = OneHotEncoder(sparse=False)\n",
    "posteam_encoded = posteam_encoded.reshape(len(posteam_encoded), 1) \n",
    "posteam_onehot_encoded = pd.DataFrame(posteam_onehot_encoder.fit_transform(posteam_encoded))\n",
    "\n",
    "nfl1 = nfl.drop(columns = ['posteam'])\n",
    "nfl2 = posteam_onehot_encoded.join(nfl1)\n",
    "nfl2.columns = ['ARI', 'ATL', 'BAL', 'BUF', 'CAR', 'CHI', 'CIN', 'CLE', 'DAL', 'DEN', 'DET', \n",
    "'GB', 'HOU', 'IND', 'JAX', 'KC', 'LAC', 'LAR', 'LV', 'MIA', 'MIN', 'NE', 'NO', 'NYG', 'NYJ', \n",
    "'PHI', 'PIT', 'SEA', 'SF', 'TB', 'TEN', 'WAS', 'yardline_100', 'quarter_seconds_remaining', \n",
    "'qtr', 'down', 'goal_to_go', 'ydstogo', 'play_type', 'score_margin']\n",
    "\n",
    "X = nfl2.drop(\"play_type\", axis = 1)\n",
    "y = play_onehot_encoded\n",
    "X = (X-X.min())/(X.max()-X.min())\n",
    "print(X)\n",
    "\n",
    "X = X.fillna(0)"
   ]
  },
  {
   "cell_type": "markdown",
   "metadata": {},
   "source": [
    "### Training and Testing the Neural Network"
   ]
  },
  {
   "cell_type": "code",
   "execution_count": 8,
   "metadata": {},
   "outputs": [],
   "source": [
    "from sklearn.model_selection import train_test_split\n",
    "from sklearn.neural_network import MLPClassifier\n",
    "from sklearn.metrics import confusion_matrix\n",
    "from sklearn.metrics import mean_squared_error\n",
    "from sklearn.metrics import classification_report\n",
    "\n",
    "X_train, X_test, y_train, y_test = train_test_split(X, y, test_size=0.1)\n",
    "\n",
    "clf = MLPClassifier(solver = 'sgd', random_state = 42, activation = 'logistic', learning_rate_init = 0.3, batch_size = 100, hidden_layer_sizes = (12, 3), max_iter = 500)\n",
    "\n",
    "clf.fit(X_train, y_train)\n",
    "\n",
    "y_pred = clf.predict(X_test) \n",
    "\n",
    "prob = clf.predict_proba(X_test)\n",
    "n = 0\n",
    "for idx, x in enumerate(prob):\n",
    "    for idx, y in enumerate(x):\n",
    "        if y == max(x):\n",
    "            x[idx] = 1\n",
    "        else:\n",
    "            x[idx] = 0\n",
    "newy_pred = prob\n",
    "\n",
    "print(confusion_matrix(y_test.argmax(axis=1), y_pred.argmax(axis=1)))\n",
    "\n",
    "print(\"Accuracy:\", clf.score(X_test, y_test))\n",
    "\n",
    "mse = mean_squared_error(y_test, newy_pred)\n",
    "print('MSE:', mse)\n",
    "\n",
    "print(classification_report(y_test, newy_pred))"
   ]
  }
 ],
 "metadata": {
  "interpreter": {
   "hash": "0a7891ce5105f8b56b367cc50435b1906045e7b0c9dc8ce29244bbcc2793d18c"
  },
  "kernelspec": {
   "display_name": "Python 3.9.7 ('base')",
   "language": "python",
   "name": "python3"
  },
  "language_info": {
   "codemirror_mode": {
    "name": "ipython",
    "version": 3
   },
   "file_extension": ".py",
   "mimetype": "text/x-python",
   "name": "python",
   "nbconvert_exporter": "python",
   "pygments_lexer": "ipython3",
   "version": "3.9.7"
  },
  "orig_nbformat": 4
 },
 "nbformat": 4,
 "nbformat_minor": 2
}
