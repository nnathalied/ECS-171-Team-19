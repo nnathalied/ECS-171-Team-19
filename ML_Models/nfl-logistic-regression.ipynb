{
 "cells": [
  {
   "cell_type": "code",
   "execution_count": 10,
   "id": "968e8fad",
   "metadata": {},
   "outputs": [],
   "source": [
    "import numpy as np\n",
    "import pandas as pd\n",
    "from sklearn.model_selection import train_test_split\n",
    "from sklearn import linear_model\n",
    "from sklearn.preprocessing import LabelEncoder\n",
    "from sklearn.preprocessing import StandardScaler\n",
    "\n",
    "df=pd.read_csv(\"NFL_data_super_cleaned.csv\")"
   ]
  },
  {
   "cell_type": "code",
   "execution_count": 11,
   "id": "11b4261a",
   "metadata": {
    "scrolled": true
   },
   "outputs": [
    {
     "data": {
      "text/plain": [
       "posteam                      False\n",
       "yardline_100                 False\n",
       "quarter_seconds_remaining    False\n",
       "qtr                          False\n",
       "down                         False\n",
       "goal_to_go                   False\n",
       "ydstogo                      False\n",
       "score_margin                 False\n",
       "play_type                    False\n",
       "dtype: bool"
      ]
     },
     "execution_count": 11,
     "metadata": {},
     "output_type": "execute_result"
    }
   ],
   "source": [
    "# check for null values\n",
    "df.isnull().any()"
   ]
  },
  {
   "cell_type": "code",
   "execution_count": 12,
   "id": "5fcea20d",
   "metadata": {},
   "outputs": [
    {
     "data": {
      "text/plain": [
       "array(['PIT', 'TEN', 'CLE', 'MIN', 'NO', 'DET', 'DAL', 'TB', 'HOU', 'NYJ',\n",
       "       'IND', 'JAX', 'DEN', 'CIN', 'CAR', 'PHI', 'KC', 'BAL', 'ATL',\n",
       "       'MIA', 'ARI', 'SF', 'SEA', 'LAR', 'NYG', 'WAS', 'GB', 'CHI', 'NE',\n",
       "       'BUF', 'LV', 'LAC'], dtype=object)"
      ]
     },
     "execution_count": 12,
     "metadata": {},
     "output_type": "execute_result"
    }
   ],
   "source": [
    "pd.unique(df['play_type'])\n",
    "pd.unique(df['posteam'])"
   ]
  },
  {
   "cell_type": "code",
   "execution_count": 13,
   "id": "b00311f7",
   "metadata": {},
   "outputs": [
    {
     "data": {
      "text/html": [
       "<div>\n",
       "<style scoped>\n",
       "    .dataframe tbody tr th:only-of-type {\n",
       "        vertical-align: middle;\n",
       "    }\n",
       "\n",
       "    .dataframe tbody tr th {\n",
       "        vertical-align: top;\n",
       "    }\n",
       "\n",
       "    .dataframe thead th {\n",
       "        text-align: right;\n",
       "    }\n",
       "</style>\n",
       "<table border=\"1\" class=\"dataframe\">\n",
       "  <thead>\n",
       "    <tr style=\"text-align: right;\">\n",
       "      <th></th>\n",
       "      <th>posteam</th>\n",
       "      <th>yardline_100</th>\n",
       "      <th>quarter_seconds_remaining</th>\n",
       "      <th>qtr</th>\n",
       "      <th>down</th>\n",
       "      <th>goal_to_go</th>\n",
       "      <th>ydstogo</th>\n",
       "      <th>score_margin</th>\n",
       "      <th>play_type_kick</th>\n",
       "      <th>play_type_pass</th>\n",
       "      <th>play_type_run</th>\n",
       "    </tr>\n",
       "  </thead>\n",
       "  <tbody>\n",
       "    <tr>\n",
       "      <th>0</th>\n",
       "      <td>PIT</td>\n",
       "      <td>58.0</td>\n",
       "      <td>893.0</td>\n",
       "      <td>1</td>\n",
       "      <td>1.0</td>\n",
       "      <td>0.0</td>\n",
       "      <td>10</td>\n",
       "      <td>0.0</td>\n",
       "      <td>0</td>\n",
       "      <td>1</td>\n",
       "      <td>0</td>\n",
       "    </tr>\n",
       "    <tr>\n",
       "      <th>1</th>\n",
       "      <td>PIT</td>\n",
       "      <td>53.0</td>\n",
       "      <td>856.0</td>\n",
       "      <td>1</td>\n",
       "      <td>2.0</td>\n",
       "      <td>0.0</td>\n",
       "      <td>5</td>\n",
       "      <td>0.0</td>\n",
       "      <td>0</td>\n",
       "      <td>0</td>\n",
       "      <td>1</td>\n",
       "    </tr>\n",
       "    <tr>\n",
       "      <th>2</th>\n",
       "      <td>PIT</td>\n",
       "      <td>56.0</td>\n",
       "      <td>815.0</td>\n",
       "      <td>1</td>\n",
       "      <td>3.0</td>\n",
       "      <td>0.0</td>\n",
       "      <td>8</td>\n",
       "      <td>0.0</td>\n",
       "      <td>0</td>\n",
       "      <td>1</td>\n",
       "      <td>0</td>\n",
       "    </tr>\n",
       "    <tr>\n",
       "      <th>3</th>\n",
       "      <td>PIT</td>\n",
       "      <td>56.0</td>\n",
       "      <td>807.0</td>\n",
       "      <td>1</td>\n",
       "      <td>4.0</td>\n",
       "      <td>0.0</td>\n",
       "      <td>8</td>\n",
       "      <td>0.0</td>\n",
       "      <td>1</td>\n",
       "      <td>0</td>\n",
       "      <td>0</td>\n",
       "    </tr>\n",
       "    <tr>\n",
       "      <th>4</th>\n",
       "      <td>TEN</td>\n",
       "      <td>98.0</td>\n",
       "      <td>796.0</td>\n",
       "      <td>1</td>\n",
       "      <td>1.0</td>\n",
       "      <td>0.0</td>\n",
       "      <td>10</td>\n",
       "      <td>0.0</td>\n",
       "      <td>0</td>\n",
       "      <td>0</td>\n",
       "      <td>1</td>\n",
       "    </tr>\n",
       "    <tr>\n",
       "      <th>...</th>\n",
       "      <td>...</td>\n",
       "      <td>...</td>\n",
       "      <td>...</td>\n",
       "      <td>...</td>\n",
       "      <td>...</td>\n",
       "      <td>...</td>\n",
       "      <td>...</td>\n",
       "      <td>...</td>\n",
       "      <td>...</td>\n",
       "      <td>...</td>\n",
       "      <td>...</td>\n",
       "    </tr>\n",
       "    <tr>\n",
       "      <th>352376</th>\n",
       "      <td>CAR</td>\n",
       "      <td>71.0</td>\n",
       "      <td>82.0</td>\n",
       "      <td>4</td>\n",
       "      <td>2.0</td>\n",
       "      <td>0.0</td>\n",
       "      <td>1</td>\n",
       "      <td>-5.0</td>\n",
       "      <td>0</td>\n",
       "      <td>1</td>\n",
       "      <td>0</td>\n",
       "    </tr>\n",
       "    <tr>\n",
       "      <th>352377</th>\n",
       "      <td>CAR</td>\n",
       "      <td>71.0</td>\n",
       "      <td>77.0</td>\n",
       "      <td>4</td>\n",
       "      <td>3.0</td>\n",
       "      <td>0.0</td>\n",
       "      <td>1</td>\n",
       "      <td>-5.0</td>\n",
       "      <td>0</td>\n",
       "      <td>1</td>\n",
       "      <td>0</td>\n",
       "    </tr>\n",
       "    <tr>\n",
       "      <th>352378</th>\n",
       "      <td>CAR</td>\n",
       "      <td>66.0</td>\n",
       "      <td>63.0</td>\n",
       "      <td>4</td>\n",
       "      <td>2.0</td>\n",
       "      <td>0.0</td>\n",
       "      <td>10</td>\n",
       "      <td>-5.0</td>\n",
       "      <td>0</td>\n",
       "      <td>1</td>\n",
       "      <td>0</td>\n",
       "    </tr>\n",
       "    <tr>\n",
       "      <th>352379</th>\n",
       "      <td>CAR</td>\n",
       "      <td>66.0</td>\n",
       "      <td>58.0</td>\n",
       "      <td>4</td>\n",
       "      <td>3.0</td>\n",
       "      <td>0.0</td>\n",
       "      <td>10</td>\n",
       "      <td>-5.0</td>\n",
       "      <td>0</td>\n",
       "      <td>1</td>\n",
       "      <td>0</td>\n",
       "    </tr>\n",
       "    <tr>\n",
       "      <th>352380</th>\n",
       "      <td>CAR</td>\n",
       "      <td>61.0</td>\n",
       "      <td>38.0</td>\n",
       "      <td>4</td>\n",
       "      <td>4.0</td>\n",
       "      <td>0.0</td>\n",
       "      <td>5</td>\n",
       "      <td>-5.0</td>\n",
       "      <td>0</td>\n",
       "      <td>1</td>\n",
       "      <td>0</td>\n",
       "    </tr>\n",
       "  </tbody>\n",
       "</table>\n",
       "<p>352381 rows × 11 columns</p>\n",
       "</div>"
      ],
      "text/plain": [
       "       posteam  yardline_100  quarter_seconds_remaining  qtr  down  \\\n",
       "0          PIT          58.0                      893.0    1   1.0   \n",
       "1          PIT          53.0                      856.0    1   2.0   \n",
       "2          PIT          56.0                      815.0    1   3.0   \n",
       "3          PIT          56.0                      807.0    1   4.0   \n",
       "4          TEN          98.0                      796.0    1   1.0   \n",
       "...        ...           ...                        ...  ...   ...   \n",
       "352376     CAR          71.0                       82.0    4   2.0   \n",
       "352377     CAR          71.0                       77.0    4   3.0   \n",
       "352378     CAR          66.0                       63.0    4   2.0   \n",
       "352379     CAR          66.0                       58.0    4   3.0   \n",
       "352380     CAR          61.0                       38.0    4   4.0   \n",
       "\n",
       "        goal_to_go  ydstogo  score_margin  play_type_kick  play_type_pass  \\\n",
       "0              0.0       10           0.0               0               1   \n",
       "1              0.0        5           0.0               0               0   \n",
       "2              0.0        8           0.0               0               1   \n",
       "3              0.0        8           0.0               1               0   \n",
       "4              0.0       10           0.0               0               0   \n",
       "...            ...      ...           ...             ...             ...   \n",
       "352376         0.0        1          -5.0               0               1   \n",
       "352377         0.0        1          -5.0               0               1   \n",
       "352378         0.0       10          -5.0               0               1   \n",
       "352379         0.0       10          -5.0               0               1   \n",
       "352380         0.0        5          -5.0               0               1   \n",
       "\n",
       "        play_type_run  \n",
       "0                   0  \n",
       "1                   1  \n",
       "2                   0  \n",
       "3                   0  \n",
       "4                   1  \n",
       "...               ...  \n",
       "352376              0  \n",
       "352377              0  \n",
       "352378              0  \n",
       "352379              0  \n",
       "352380              0  \n",
       "\n",
       "[352381 rows x 11 columns]"
      ]
     },
     "execution_count": 13,
     "metadata": {},
     "output_type": "execute_result"
    }
   ],
   "source": [
    "dfnew=pd.get_dummies(df, columns=['play_type'])\n",
    "dfnew"
   ]
  },
  {
   "cell_type": "code",
   "execution_count": 14,
   "id": "1c95d389",
   "metadata": {},
   "outputs": [],
   "source": [
    "le=LabelEncoder()"
   ]
  },
  {
   "cell_type": "code",
   "execution_count": 15,
   "id": "39b22b65",
   "metadata": {},
   "outputs": [],
   "source": [
    "df['encoded_team']=le.fit_transform(df['posteam'])"
   ]
  },
  {
   "cell_type": "code",
   "execution_count": 16,
   "id": "dd2ca531",
   "metadata": {},
   "outputs": [],
   "source": [
    "x_train, x_test, y_train, y_test = train_test_split(df[['encoded_team','yardline_100','quarter_seconds_remaining','qtr', 'down', 'goal_to_go', 'ydstogo', 'score_margin']],df['play_type'], test_size=0.25)"
   ]
  },
  {
   "cell_type": "code",
   "execution_count": 17,
   "id": "e5a0a189",
   "metadata": {},
   "outputs": [],
   "source": [
    "# Scale Data\n",
    "scaler=StandardScaler()\n",
    "x_train_scale=scaler.fit_transform(x_train)\n",
    "x_test_scale=scaler.transform(x_test)"
   ]
  },
  {
   "cell_type": "code",
   "execution_count": 18,
   "id": "f5ed48d5",
   "metadata": {
    "scrolled": true
   },
   "outputs": [
    {
     "name": "stderr",
     "output_type": "stream",
     "text": [
      "c:\\Users\\noell\\Anaconda3\\envs\\ecs-171-base\\lib\\site-packages\\sklearn\\linear_model\\_logistic.py:814: ConvergenceWarning: lbfgs failed to converge (status=1):\n",
      "STOP: TOTAL NO. of ITERATIONS REACHED LIMIT.\n",
      "\n",
      "Increase the number of iterations (max_iter) or scale the data as shown in:\n",
      "    https://scikit-learn.org/stable/modules/preprocessing.html\n",
      "Please also refer to the documentation for alternative solver options:\n",
      "    https://scikit-learn.org/stable/modules/linear_model.html#logistic-regression\n",
      "  n_iter_i = _check_optimize_result(\n"
     ]
    }
   ],
   "source": [
    "# Build and Fit LR Model \n",
    "model=linear_model.LogisticRegression(multi_class=\"multinomial\")\n",
    "model.fit(x_train, y_train)\n",
    "predictions=model.predict(x_test)"
   ]
  },
  {
   "cell_type": "code",
   "execution_count": 29,
   "id": "c930efb7",
   "metadata": {},
   "outputs": [
    {
     "name": "stdout",
     "output_type": "stream",
     "text": [
      "Accuracy score: 0.5744528695968035\n",
      "              precision    recall  f1-score   support\n",
      "\n",
      "        kick       0.43      0.22      0.29      8462\n",
      "        pass       0.58      0.77      0.66     46396\n",
      "         run       0.58      0.40      0.47     33238\n",
      "\n",
      "    accuracy                           0.57     88096\n",
      "   macro avg       0.53      0.46      0.47     88096\n",
      "weighted avg       0.57      0.57      0.55     88096\n",
      "\n",
      "Confusion matrix, without normalization\n",
      "[[ 1867  6551    44]\n",
      " [ 1151 35554  9691]\n",
      " [ 1300 18752 13186]]\n",
      "Normalized confusion matrix\n",
      "[[0.22063342 0.77416686 0.00519972]\n",
      " [0.02480817 0.76631606 0.20887577]\n",
      " [0.03911186 0.56417354 0.3967146 ]]\n"
     ]
    },
    {
     "data": {
      "image/png": "[encoded data removed]",
      "text/plain": [
       "<Figure size 432x288 with 2 Axes>"
      ]
     },
     "metadata": {
      "needs_background": "light"
     },
     "output_type": "display_data"
    },
    {
     "data": {
      "image/png": "[encoded data removed]",
      "text/plain": [
       "<Figure size 432x288 with 2 Axes>"
      ]
     },
     "metadata": {
      "needs_background": "light"
     },
     "output_type": "display_data"
    }
   ],
   "source": [
    "import numpy as np\n",
    "import matplotlib.pyplot as plt\n",
    "\n",
    "from sklearn.model_selection import train_test_split\n",
    "from sklearn.metrics import classification_report, ConfusionMatrixDisplay\n",
    "\n",
    "import matplotlib.pyplot as plt\n",
    "\n",
    "model.score(x_test, y_test)\n",
    "\n",
    "print(\"Accuracy score:\", model.score(x_test, y_test))\n",
    "print(classification_report(y_test, predictions))\n",
    "\n",
    "\n",
    "# Plot non-normalized confusion matrix and normalized confusion matrix\n",
    "\n",
    "# Confusion matrix code from https://scikit-learn.org/stable/auto_examples/model_selection/plot_confusion_matrix.html\n",
    "\n",
    "titles_options = [\n",
    "    (\"Confusion matrix, without normalization\", None),\n",
    "    (\"Normalized confusion matrix\", \"true\"),\n",
    "]\n",
    "for title, normalize in titles_options:\n",
    "    disp = ConfusionMatrixDisplay.from_estimator(\n",
    "        model,\n",
    "        x_test,\n",
    "        y_test,\n",
    "        cmap=plt.cm.Blues,\n",
    "        normalize=normalize,\n",
    "    )\n",
    "    disp.ax_.set_title(title)\n",
    "\n",
    "    print(title)\n",
    "    print(disp.confusion_matrix)\n",
    "plt.savefig(\"logreg-con-matrix.png\")\n",
    "plt.show()"
   ]
  }
 ],
 "metadata": {
  "interpreter": {
   "hash": "786cec0546ca13504340782b929957a45ba40a74f0440288215f7d39e46ce7e2"
  },
  "kernelspec": {
   "display_name": "Python 3.9.12 ('ecs-171-base')",
   "language": "python",
   "name": "python3"
  },
  "language_info": {
   "codemirror_mode": {
    "name": "ipython",
    "version": 3
   },
   "file_extension": ".py",
   "mimetype": "text/x-python",
   "name": "python",
   "nbconvert_exporter": "python",
   "pygments_lexer": "ipython3",
   "version": "3.9.12"
  }
 },
 "nbformat": 4,
 "nbformat_minor": 5
}
