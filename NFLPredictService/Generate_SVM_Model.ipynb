{
 "cells": [
  {
   "cell_type": "markdown",
   "metadata": {},
   "source": [
    "### Generate SVM Model\n",
    "\n",
    "This file trains and fits the SVM model using the dataset ```NFL_data_super_cleaned.csv```, then saves the SVM model to ```finalized_svm_model.sav``` and the scaler used by the model to 'scaler.pkl'."
   ]
  },
  {
   "cell_type": "code",
   "execution_count": 3,
   "metadata": {},
   "outputs": [
    {
     "name": "stdout",
     "output_type": "stream",
     "text": [
      "False 0\n",
      "False 0\n",
      "False 0\n"
     ]
    }
   ],
   "source": [
    "\n",
    "import pandas as pd\n",
    "import numpy as np\n",
    "from sklearn import preprocessing\n",
    "from sklearn.model_selection import train_test_split\n",
    "from sklearn.svm import SVC\n",
    "\n",
    "import pickle\n",
    "\n",
    "\n",
    "\n",
    "# import data set\n",
    "\n",
    "nfl1 = pd.read_csv(\"NFL_data_super_cleaned.csv\")\n",
    "\n",
    "nfl1.dropna(inplace=True)\n",
    "print(nfl1.isnull().values.any(), nfl1.isnull().sum().sum())\n",
    "\n",
    "# Our 350,000 samples seem like a little too much, so sample about 10,000 rows\n",
    "sample = nfl1.sample(n=150000, random_state=21, axis=0)\n",
    "print(sample.isnull().values.any(), sample.isnull().sum().sum())\n",
    "# one-hot encode the categorical variables\n",
    "# posteam_type, defteam, side_of_field, game_date (drop), time (convert?), yrdline (convert?)\n",
    "\n",
    "cat_columns = [\"posteam\", \"qtr\"]\n",
    "# one-hot encode categorical variables\n",
    "encoder = preprocessing.OneHotEncoder()\n",
    "cat_array = encoder.fit_transform(sample[cat_columns]).toarray()\n",
    "cat_labels = encoder.get_feature_names_out(cat_columns)\n",
    "cat_onehot_encoded = pd.DataFrame(cat_array, columns=cat_labels)\n",
    "\n",
    "# Add back the continuous variables\n",
    "cat_onehot_encoded[\"yardline_100\"] = sample[\"yardline_100\"]\n",
    "cat_onehot_encoded[\"quarter_seconds_remaining\"] = sample[\"quarter_seconds_remaining\"]\n",
    "cat_onehot_encoded[\"down\"] = sample[\"down\"]\n",
    "cat_onehot_encoded[\"goal_to_go\"] = sample[\"goal_to_go\"]\n",
    "cat_onehot_encoded[\"ydstogo\"] = sample[\"ydstogo\"]\n",
    "cat_onehot_encoded[\"score_margin\"] = sample[\"score_margin\"]\n",
    "\n",
    "cat_onehot_encoded[\"play_type\"] = sample[\"play_type\"]\n",
    "cat_onehot_encoded.dropna(inplace=True)\n",
    "\n",
    "print(cat_onehot_encoded.isnull().values.any(), cat_onehot_encoded.isnull().sum().sum())\n",
    "\n",
    "# split data into training and testing sets\n",
    "# seed: 21, train/test ratio: 0.2 test, 0.8 train\n",
    "\n",
    "x, y = cat_onehot_encoded.drop([\"play_type\"], axis=1).to_numpy(), cat_onehot_encoded[\"play_type\"].to_numpy()\n",
    "\n",
    "# Split data into training and testing sets\n",
    "X_train, X_test, y_train, y_test = train_test_split(x, y, test_size=0.2, random_state=21)\n",
    "\n",
    "# compares each play_type to the other possible play_type\n",
    "\n",
    "scaler = preprocessing.StandardScaler()\n",
    "scaler.fit(X_train)\n",
    "\n",
    "# find = np.where(cat_labels == team)\n",
    "clf_ovo = SVC(kernel='linear', decision_function_shape='ovo')  # The other is ovr\n",
    "\n",
    "clf_ovo.fit(scaler.transform(X_train), np.asarray(y_train))\n",
    "\n",
    "# SAVE the model to disk\n",
    "filename = 'finalized_svm_model.sav'\n",
    "pickle.dump(clf_ovo, open(filename, 'wb'))\n",
    "\n",
    "# SAVE the scaler\n",
    "pickle.dump(scaler, open('scaler.pkl', 'wb'))\n"
   ]
  }
 ],
 "metadata": {
  "interpreter": {
   "hash": "ee9bd55f850af84fc788e05a3dc7c095f730672284fca875551d719036b4b010"
  },
  "kernelspec": {
   "display_name": "Python 3.9.12 ('ecs171-clone-for-hw5')",
   "language": "python",
   "name": "python3"
  },
  "language_info": {
   "codemirror_mode": {
    "name": "ipython",
    "version": 3
   },
   "file_extension": ".py",
   "mimetype": "text/x-python",
   "name": "python",
   "nbconvert_exporter": "python",
   "pygments_lexer": "ipython3",
   "version": "3.9.12"
  },
  "orig_nbformat": 4
 },
 "nbformat": 4,
 "nbformat_minor": 2
}
